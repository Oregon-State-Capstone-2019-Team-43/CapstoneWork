{
 "cells": [
  {
   "cell_type": "code",
   "execution_count": 1,
   "metadata": {
    "scrolled": true
   },
   "outputs": [],
   "source": [
    "import numpy, scipy, matplotlib.pyplot as plt, sklearn, librosa, librosa.display, urllib, IPython.display, os, soundfile as sf\n",
    "plt.rcParams['figure.figsize'] = (14,4)"
   ]
  },
  {
   "cell_type": "code",
   "execution_count": 2,
   "metadata": {},
   "outputs": [],
   "source": [
    "import os.path\n",
    "from os import path\n",
    "\n",
    "# Check for output.csv and delete if it exists\n",
    "if path.exists(\"output.csv\"):\n",
    "    os.remove(\"output.csv\")"
   ]
  },
  {
   "cell_type": "code",
   "execution_count": 3,
   "metadata": {},
   "outputs": [],
   "source": [
    "joke=r'..\\V6_robot_recordings\\2019-04-13 Cienna Nerdy Show at The Drake\\jokes_and_pauses\\joke_1.mp3'\n",
    "laugh=r'..\\V6_robot_recordings\\2019-04-13 Cienna Nerdy Show at The Drake\\jokes_and_pauses\\pause_1.mp3'\n",
    "test=r'.\\download.wav'\n",
    "shorter=r'.\\shorter.wav'\n",
    "\n",
    "### Block Sized Clips ###\n",
    "clip1=r'..\\Mid-Joke Laughter Annotations\\Sample Clips\\Laugh\\laugh1.wav'\n",
    "clip2=r'..\\Mid-Joke Laughter Annotations\\Sample Clips\\No Laugh\\Background_Silence\\bg1.wav'\n",
    "clip3=r'..\\Mid-Joke Laughter Annotations\\Sample Clips\\No Laugh\\Background_Silence\\bg2.wav'\n",
    "clip4=r'..\\Mid-Joke Laughter Annotations\\Sample Clips\\No Laugh\\Joke\\joke1.wav'\n",
    "\n",
    "\n",
    "# path = clip1\n",
    "# path = clip2\n",
    "# path = clip3\n",
    "# path = clip4\n",
    "\n",
    "# bg1 audio\n",
    "y, fs = librosa.load(clip2,sr=None)\n",
    "mfccsBg1 = librosa.feature.mfcc(y, sr=fs, n_mfcc=13, hop_length=1024, dct_type=1, norm='ortho')\n",
    "\n",
    "# bg2 audio\n",
    "y, fs = librosa.load(clip3,sr=None)\n",
    "mfccsBg2 = librosa.feature.mfcc(y, sr=fs, n_mfcc=13, hop_length=1024, dct_type=1, norm='ortho')\n",
    "\n",
    "# joke audio\n",
    "y, fs = librosa.load(clip4,sr=None)\n",
    "mfccsJoke = librosa.feature.mfcc(y, sr=fs, n_mfcc=13, hop_length=1024, dct_type=1, norm='ortho')\n",
    "\n",
    "# laugh audio\n",
    "y, fs = librosa.load(clip1,sr=None)\n",
    "mfccsLaugh = librosa.feature.mfcc(y, sr=fs, n_mfcc=13, hop_length=1024, dct_type=1, norm='ortho')"
   ]
  },
  {
   "cell_type": "code",
   "execution_count": 4,
   "metadata": {
    "scrolled": true
   },
   "outputs": [],
   "source": [
    "# x, fs = librosa.load(path)\n",
    "# librosa.display.waveplot(x, sr=fs)"
   ]
  },
  {
   "cell_type": "code",
   "execution_count": 5,
   "metadata": {},
   "outputs": [],
   "source": [
    "# IPython.display.Audio(x, rate=fs)"
   ]
  },
  {
   "cell_type": "code",
   "execution_count": 6,
   "metadata": {},
   "outputs": [],
   "source": [
    "# computes MFCCs\n",
    "# mfccs = librosa.feature.mfcc(x, sr=fs, n_mels=128, fmax=8000) # Use a pre-computed log-power Mel spectrogram\n",
    "# mfccs = librosa.feature.mfcc(x, sr=fs, dct_type=2) # Slaney\n",
    "# mfccs = librosa.feature.mfcc(x, sr=fs, dct_type=3) # HTK\n",
    "# mfccs = librosa.feature.mfcc(x, sr=fs, hop_length=1, htk=True) # different hop length and HTK-style Mel frequencies\n",
    "# mfccs = librosa.feature.mfcc(x, sr=fs) # Regular\n",
    "\n",
    "# print (mfccs.shape) # (Number of MFCCs, Number of frames)"
   ]
  },
  {
   "cell_type": "code",
   "execution_count": 7,
   "metadata": {
    "scrolled": true
   },
   "outputs": [],
   "source": [
    "# Save MFCC Output to csv\n",
    "numpy.savetxt('bg1.csv',mfccsBg1,delimiter=\",\")\n",
    "numpy.savetxt('bg2.csv',mfccsBg2,delimiter=\",\")\n",
    "numpy.savetxt('laugh.csv',mfccsLaugh,delimiter=\",\")\n",
    "numpy.savetxt('joke.csv',mfccsJoke,delimiter=\",\")"
   ]
  },
  {
   "cell_type": "code",
   "execution_count": 8,
   "metadata": {
    "scrolled": true
   },
   "outputs": [
    {
     "data": {
      "text/plain": [
       "<matplotlib.colorbar.Colorbar at 0x2b1467dd448>"
      ]
     },
     "execution_count": 8,
     "metadata": {},
     "output_type": "execute_result"
    },
    {
     "data": {
      "image/png": "[encoded data removed]",
      "text/plain": [
       "<Figure size 1008x288 with 2 Axes>"
      ]
     },
     "metadata": {
      "needs_background": "light"
     },
     "output_type": "display_data"
    }
   ],
   "source": [
    "# Display the MFCCs\n",
    "# plt.figure(figsize=(10, 6))\n",
    "# plt.subplot(3, 1, 1)\n",
    "librosa.display.specshow(mfccsJoke, sr=fs, x_axis='time')\n",
    "plt.colorbar()\n",
    "\n"
   ]
  },
  {
   "cell_type": "code",
   "execution_count": 9,
   "metadata": {},
   "outputs": [
    {
     "data": {
      "text/plain": [
       "<matplotlib.colorbar.Colorbar at 0x2b14689de88>"
      ]
     },
     "execution_count": 9,
     "metadata": {},
     "output_type": "execute_result"
    },
    {
     "data": {
      "image/png": "[encoded data removed]",
      "text/plain": [
       "<Figure size 1008x288 with 2 Axes>"
      ]
     },
     "metadata": {
      "needs_background": "light"
     },
     "output_type": "display_data"
    }
   ],
   "source": [
    "# plt.subplot(3, 1, 2)\n",
    "librosa.display.specshow(mfccsLaugh, sr=fs, x_axis='time')\n",
    "plt.colorbar()\n",
    "# plt.tight_layout()\n",
    "# plt.show()"
   ]
  },
  {
   "cell_type": "code",
   "execution_count": 10,
   "metadata": {},
   "outputs": [
    {
     "data": {
      "text/plain": [
       "<matplotlib.colorbar.Colorbar at 0x2b146940e08>"
      ]
     },
     "execution_count": 10,
     "metadata": {},
     "output_type": "execute_result"
    },
    {
     "data": {
      "image/png": "[encoded data removed]",
      "text/plain": [
       "<Figure size 1008x288 with 2 Axes>"
      ]
     },
     "metadata": {
      "needs_background": "light"
     },
     "output_type": "display_data"
    }
   ],
   "source": [
    "# plt.subplot(3, 1, 2)\n",
    "librosa.display.specshow(mfccsBg2, sr=fs, x_axis='time')\n",
    "plt.colorbar()\n",
    "# plt.tight_layout()\n",
    "# plt.show()"
   ]
  },
  {
   "cell_type": "code",
   "execution_count": 11,
   "metadata": {
    "scrolled": true
   },
   "outputs": [
    {
     "data": {
      "text/plain": [
       "<matplotlib.colorbar.Colorbar at 0x2b146a0eb08>"
      ]
     },
     "execution_count": 11,
     "metadata": {},
     "output_type": "execute_result"
    },
    {
     "data": {
      "image/png": "[encoded data removed]",
      "text/plain": [
       "<Figure size 1008x288 with 2 Axes>"
      ]
     },
     "metadata": {
      "needs_background": "light"
     },
     "output_type": "display_data"
    }
   ],
   "source": [
    "# plt.subplot(3, 1, 2)\n",
    "librosa.display.specshow(mfccsBg1, sr=fs, x_axis='time')\n",
    "plt.colorbar()\n",
    "# plt.tight_layout()\n",
    "# plt.show()"
   ]
  },
  {
   "cell_type": "code",
   "execution_count": 12,
   "metadata": {
    "scrolled": true
   },
   "outputs": [],
   "source": [
    "# scale the MFCCs such that each coefficient dimension has zero mean and unit variance:\n",
    "\n",
    "# mfccs = sklearn.preprocessing.scale(mfccs, axis=1)\n",
    "# print (mfccs.mean(axis=1))\n",
    "# print (mfccs.var(axis=1))"
   ]
  },
  {
   "cell_type": "code",
   "execution_count": 13,
   "metadata": {},
   "outputs": [],
   "source": [
    "# Display the scaled MFCCs\n",
    "# librosa.display.specshow(mfccs, sr=fs, x_axis='time')"
   ]
  },
  {
   "cell_type": "code",
   "execution_count": null,
   "metadata": {},
   "outputs": [],
   "source": []
  }
 ],
 "metadata": {
  "kernelspec": {
   "display_name": "Python 3",
   "language": "python",
   "name": "python3"
  },
  "language_info": {
   "codemirror_mode": {
    "name": "ipython",
    "version": 3
   },
   "file_extension": ".py",
   "mimetype": "text/x-python",
   "name": "python",
   "nbconvert_exporter": "python",
   "pygments_lexer": "ipython3",
   "version": "3.7.6"
  }
 },
 "nbformat": 4,
 "nbformat_minor": 4
}
